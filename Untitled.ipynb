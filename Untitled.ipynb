{
 "cells": [
  {
   "cell_type": "code",
   "execution_count": null,
   "id": "2ed0d994-fdab-4c10-b8e1-81cf79df3245",
   "metadata": {},
   "outputs": [],
   "source": [
    "3 + 5 * 4"
   ]
  },
  {
   "cell_type": "code",
   "execution_count": null,
   "id": "0d21bdbf-646f-432e-96a0-7c612f62d23a",
   "metadata": {},
   "outputs": [],
   "source": [
    "weight_kg = 60"
   ]
  },
  {
   "cell_type": "code",
   "execution_count": null,
   "id": "86bdb67e-0d26-4c8c-bb9b-bf8072f4b647",
   "metadata": {},
   "outputs": [],
   "source": [
    "weight_kg = 60.3"
   ]
  },
  {
   "cell_type": "code",
   "execution_count": null,
   "id": "57f48959-6482-4d33-bf20-3b567864f858",
   "metadata": {},
   "outputs": [],
   "source": [
    "patient_id = \"001\""
   ]
  },
  {
   "cell_type": "code",
   "execution_count": null,
   "id": "d58083d4-f567-48c0-b8ed-781e98b9bcae",
   "metadata": {},
   "outputs": [],
   "source": [
    "weight_lb = 2.2 * weight_kg"
   ]
  },
  {
   "cell_type": "code",
   "execution_count": null,
   "id": "baaaf93a-96db-4f35-bb3b-4d6ccf70c07a",
   "metadata": {},
   "outputs": [],
   "source": [
    "patient_id = \"inflam_\" + patient_id "
   ]
  },
  {
   "cell_type": "code",
   "execution_count": null,
   "id": "a334751f-e1e5-4134-aad4-1c6372b5b0e4",
   "metadata": {},
   "outputs": [],
   "source": [
    "print(weight_lb)"
   ]
  },
  {
   "cell_type": "code",
   "execution_count": null,
   "id": "18557ae9-ce6e-41c6-a286-0710e6fec1d9",
   "metadata": {},
   "outputs": [],
   "source": [
    "print(patient_id)"
   ]
  },
  {
   "cell_type": "code",
   "execution_count": null,
   "id": "3355be98-206c-484c-ba51-5bdf1092bce5",
   "metadata": {},
   "outputs": [],
   "source": [
    "print(patient_id, \"weight in kilograms:\", weight_kg)"
   ]
  },
  {
   "cell_type": "code",
   "execution_count": null,
   "id": "1f5b07d4-79fe-459a-8a99-2383aee70af6",
   "metadata": {},
   "outputs": [],
   "source": [
    "print(type(60.3))\n",
    "print(type(patient_id))"
   ]
  },
  {
   "cell_type": "code",
   "execution_count": null,
   "id": "8faaddde-bd06-4ec9-8d9d-43887878e5b6",
   "metadata": {},
   "outputs": [],
   "source": [
    "print(\"weight in pounds:\", 2.2 * weight_kg)"
   ]
  },
  {
   "cell_type": "code",
   "execution_count": null,
   "id": "10818ac6-17c8-4b33-9c88-869eb0da11a8",
   "metadata": {},
   "outputs": [],
   "source": [
    "print(weight_kg)"
   ]
  },
  {
   "cell_type": "code",
   "execution_count": null,
   "id": "d5cc8519-c338-466d-9638-f00b595b71cb",
   "metadata": {},
   "outputs": [],
   "source": [
    "weight_kg = 65.0"
   ]
  },
  {
   "cell_type": "code",
   "execution_count": null,
   "id": "f9450fc6-f0c9-48e8-8bd8-82076072d3b3",
   "metadata": {},
   "outputs": [],
   "source": [
    "print(\"weight in kilograms is now:\", weight_kg)"
   ]
  },
  {
   "cell_type": "code",
   "execution_count": null,
   "id": "304e7227-2a66-46ac-9b54-6f4b69446285",
   "metadata": {},
   "outputs": [],
   "source": [
    "# There are 2.2 pounds per kilogram.\n",
    "weight_lb = 2.2 * weight_kg\n",
    "print(\"weight in kilograms:\", weight_kg, \"and in pounds:\", weight_lb)"
   ]
  },
  {
   "cell_type": "code",
   "execution_count": null,
   "id": "545ad276-0e0e-4ea8-bd66-afbe9c81d78b",
   "metadata": {},
   "outputs": [],
   "source": [
    "import numpy"
   ]
  },
  {
   "cell_type": "code",
   "execution_count": null,
   "id": "9a84be96-5d6b-4c89-843e-a31879541d32",
   "metadata": {},
   "outputs": [],
   "source": [
    "numpy.loadtxt(fname=\"data/inflammation-01.csv\", delimiter=\",\")"
   ]
  },
  {
   "cell_type": "code",
   "execution_count": null,
   "id": "87669187-bb00-4160-868c-e842d729c816",
   "metadata": {},
   "outputs": [],
   "source": [
    "data = numpy.loadtxt(fname=\"data/inflammation-01.csv\", delimiter=\",\")"
   ]
  },
  {
   "cell_type": "code",
   "execution_count": null,
   "id": "aac76361-dadf-4a90-9a34-3f1b1c83afe7",
   "metadata": {},
   "outputs": [],
   "source": [
    "print(data)"
   ]
  },
  {
   "cell_type": "code",
   "execution_count": null,
   "id": "124ece22-2efd-4f8f-a592-9a4101b6a5d8",
   "metadata": {},
   "outputs": [],
   "source": [
    "print(type(data))"
   ]
  },
  {
   "cell_type": "code",
   "execution_count": null,
   "id": "e3f311d7-1238-4a05-8392-a7033663d1a7",
   "metadata": {},
   "outputs": [],
   "source": [
    "print(data.shape)"
   ]
  },
  {
   "cell_type": "code",
   "execution_count": null,
   "id": "358e4406-33b6-477b-b7c9-5a1d514ce066",
   "metadata": {},
   "outputs": [],
   "source": [
    "print(\"first value in data:\", data[0,0])"
   ]
  },
  {
   "cell_type": "code",
   "execution_count": null,
   "id": "8f69cb02-b604-418d-a8b5-d2a7333f0543",
   "metadata": {},
   "outputs": [],
   "source": [
    "print(\"middle value in data:\", data[29,19])"
   ]
  },
  {
   "cell_type": "code",
   "execution_count": null,
   "id": "8e433921-3820-4229-963d-51de176bce60",
   "metadata": {},
   "outputs": [],
   "source": [
    "print(data[0:4, 0:10])"
   ]
  },
  {
   "cell_type": "code",
   "execution_count": null,
   "id": "e9301336-bc0e-4b0e-bf82-9358998f7d1a",
   "metadata": {},
   "outputs": [],
   "source": [
    "print(data[5:10, 0:10])"
   ]
  },
  {
   "cell_type": "code",
   "execution_count": null,
   "id": "01717189-2a49-4879-b377-4fa751e18999",
   "metadata": {},
   "outputs": [],
   "source": [
    "small = data[:3, 36:]\n",
    "print(\"small is:\")\n",
    "print(small)"
   ]
  },
  {
   "cell_type": "code",
   "execution_count": null,
   "id": "948bff66-4920-4d4d-b432-034b0d1c2f3e",
   "metadata": {},
   "outputs": [],
   "source": [
    "print(numpy.mean(data))"
   ]
  },
  {
   "cell_type": "code",
   "execution_count": null,
   "id": "ec3136fc-08ea-4010-b7d9-d52fcfeaa844",
   "metadata": {},
   "outputs": [],
   "source": [
    "import time\n",
    "print(time.ctime())"
   ]
  },
  {
   "cell_type": "code",
   "execution_count": null,
   "id": "07c9de60-e5ba-4106-910b-fa191890826f",
   "metadata": {},
   "outputs": [],
   "source": [
    "maxval, minval, stdval = numpy.amax(data), numpy.amin(data), numpy.std(data)"
   ]
  },
  {
   "cell_type": "code",
   "execution_count": null,
   "id": "bed1e757-cf14-4339-ad5a-88bd04d5ef67",
   "metadata": {},
   "outputs": [],
   "source": [
    "print(\"maximum inflammation:\", maxval)\n",
    "print(\"minimum inflammation:\", minval)\n",
    "print(\"standard deviation:\", stdval)"
   ]
  },
  {
   "cell_type": "code",
   "execution_count": null,
   "id": "dd61953f-601b-4cfd-9f95-638967d448f3",
   "metadata": {},
   "outputs": [],
   "source": [
    "# 0 on the first axis (rows)\n",
    "# everything else on the second axis (columns)\n",
    "patient_0 = data[0, :] \n",
    "print(\"maximum inflammation for patient 0:\", numpy.amax(patient_0))"
   ]
  },
  {
   "cell_type": "code",
   "execution_count": null,
   "id": "1ae86ebc-b31f-415b-b910-08518c1e1a29",
   "metadata": {},
   "outputs": [],
   "source": [
    "print(\"maximum inflammation for patient 2:\", numpy.amax(data[2, :]))"
   ]
  },
  {
   "cell_type": "code",
   "execution_count": null,
   "id": "85d035d4-2503-4dc3-82e0-5c887d4e564f",
   "metadata": {},
   "outputs": [],
   "source": [
    "print(numpy.mean(data, axis=0))"
   ]
  },
  {
   "cell_type": "code",
   "execution_count": null,
   "id": "7a309265-04af-427c-806f-a4da7a18b1c7",
   "metadata": {},
   "outputs": [],
   "source": [
    "print(numpy.mean(data, axis=0).shape)"
   ]
  },
  {
   "cell_type": "code",
   "execution_count": null,
   "id": "225c0e36-5b81-4044-9ef9-df5aca5b0086",
   "metadata": {},
   "outputs": [],
   "source": [
    "print(numpy.mean(data, axis=1))"
   ]
  },
  {
   "cell_type": "code",
   "execution_count": null,
   "id": "7548e7d8-3451-4831-a802-1d7184e33a56",
   "metadata": {},
   "outputs": [],
   "source": [
    "print(numpy.mean(data, axis=1).shape)"
   ]
  },
  {
   "cell_type": "code",
   "execution_count": null,
   "id": "27479b77-e1b5-43ec-a4dd-63fb034a247e",
   "metadata": {},
   "outputs": [],
   "source": [
    "import numpy"
   ]
  },
  {
   "cell_type": "code",
   "execution_count": null,
   "id": "6b81a224-6e23-4514-a620-54a0a25a879f",
   "metadata": {},
   "outputs": [],
   "source": [
    "data=numpy.loadtxt(fname=\"data/inflammation-01.csv\", delimiter=\",\")"
   ]
  },
  {
   "cell_type": "code",
   "execution_count": null,
   "id": "2809f39f-9698-4933-8042-d6cabbc41a8f",
   "metadata": {},
   "outputs": [],
   "source": [
    "import matplotlib.pyplot\n",
    "image = matplotlib.pyplot.imshow(data)\n",
    "matplotlib.pyplot.show()"
   ]
  },
  {
   "cell_type": "code",
   "execution_count": null,
   "id": "63e74c50-08f6-4e4b-9cc5-075ecc282222",
   "metadata": {},
   "outputs": [],
   "source": [
    "ave_inflammation = numpy.mean(data, axis=0)\n",
    "ave_plot = matplotlib.pyplot.plot(ave_inflammation)\n",
    "matplotlib.pyplot.show()"
   ]
  },
  {
   "cell_type": "code",
   "execution_count": null,
   "id": "ed871ba0-3a07-4bcc-a9fa-18d0634cf54e",
   "metadata": {},
   "outputs": [],
   "source": [
    "max_plot = matplotlib.pyplot.plot(numpy.amax(data, axis = 0))\n",
    "matplotlib.pyplot.show()"
   ]
  },
  {
   "cell_type": "code",
   "execution_count": null,
   "id": "da6b4bf0-759b-458d-a25f-1f73adcc7bfe",
   "metadata": {},
   "outputs": [],
   "source": [
    "min_plot = matplotlib.pyplot.plot(numpy.amin(data, axis=0))\n",
    "matplotlib.pyplot.show()"
   ]
  },
  {
   "cell_type": "code",
   "execution_count": null,
   "id": "c584b4e3-6594-4c3a-86ea-148a67660fe7",
   "metadata": {},
   "outputs": [],
   "source": [
    "import numpy\n",
    "import matplotlib.pyplot\n",
    "\n",
    "data = numpy.loadtxt(fname=\"data/inflammation-01.csv\", delimiter=\",\")\n",
    "\n",
    "fig = matplotlib.pyplot.figure(figsize=(10.0, 3.0))\n",
    "\n",
    "axes1 = fig.add_subplot(1, 3, 1)\n",
    "axes2 = fig.add_subplot(1, 3, 2)\n",
    "axes3 = fig.add_subplot(1, 3, 3)\n",
    "\n",
    "axes1.set_ylabel(\"average\")\n",
    "axes1.plot(numpy.mean(data, axis=0))\n",
    "\n",
    "axes2.set_ylabel(\"max\")\n",
    "axes2.plot(numpy.amax(data, axis=0))\n",
    "\n",
    "axes3.set_ylabel(\"min\")\n",
    "axes3.plot(numpy.amin(data, axis=0))\n",
    "\n",
    "fig.tight_layout()\n",
    "\n",
    "matplotlib.pyplot.savefig(\"inflammation.png\")\n",
    "matplotlib.pyplot.show()"
   ]
  },
  {
   "cell_type": "code",
   "execution_count": null,
   "id": "6bcc8565-c06c-400c-9fca-314e68c500d6",
   "metadata": {},
   "outputs": [],
   "source": [
    "odds = [1, 3, 5, 7]\n",
    "print(\"odds are:\", odds)"
   ]
  },
  {
   "cell_type": "code",
   "execution_count": null,
   "id": "9d7a7869-5f12-47be-90f3-79b076b49957",
   "metadata": {},
   "outputs": [],
   "source": [
    "print(\"first element:\", odds[0])\n",
    "print(\"last element:\", odds[3])\n",
    "print(\"'-1' element:\", odds[-1])"
   ]
  },
  {
   "cell_type": "code",
   "execution_count": null,
   "id": "d1c858c4-746f-44f1-9e3c-cd9222cf32d4",
   "metadata": {},
   "outputs": [],
   "source": [
    "#typo in Darwin's name\n",
    "names = [\"Curie\", \"Darwing\", \"Turing\"]\n",
    "print(\"names is originally:\", names)"
   ]
  },
  {
   "cell_type": "code",
   "execution_count": null,
   "id": "9b1e1f16-2d81-41d3-9a58-c15f3d897d33",
   "metadata": {},
   "outputs": [],
   "source": [
    "names[1] = \"Darwin\"\n",
    "print(\"final value of names:\", names)"
   ]
  },
  {
   "cell_type": "code",
   "execution_count": null,
   "id": "fe3da073-f3b0-42b8-a846-6f793fd8abbc",
   "metadata": {},
   "outputs": [],
   "source": [
    "name = \"Darwin\"\n",
    "name[0] = \"d\""
   ]
  },
  {
   "cell_type": "code",
   "execution_count": null,
   "id": "922a0294-6427-4823-bb8f-dd6c80e5eb58",
   "metadata": {},
   "outputs": [],
   "source": [
    "veg = [['lettuce', 'lettuce', 'peppers', 'zucchini'],\n",
    "     ['lettuce', 'lettuce', 'peppers', 'zucchini'],\n",
    "     ['lettuce', 'cilantro', 'peppers', 'zucchini']]"
   ]
  },
  {
   "cell_type": "code",
   "execution_count": null,
   "id": "0cdc4d0e-2e4c-497a-bb31-8158ae5c7993",
   "metadata": {},
   "outputs": [],
   "source": [
    "print(veg[2])"
   ]
  },
  {
   "cell_type": "code",
   "execution_count": null,
   "id": "a6b27f5e-eb5f-43b2-b009-e4f436e5952d",
   "metadata": {},
   "outputs": [],
   "source": [
    "print(veg[0])"
   ]
  },
  {
   "cell_type": "code",
   "execution_count": null,
   "id": "82fbf288-8e4c-46ce-84ca-5a49f7167628",
   "metadata": {},
   "outputs": [],
   "source": [
    "print(veg[0][0])"
   ]
  },
  {
   "cell_type": "code",
   "execution_count": null,
   "id": "a7b13c0a-44d4-423f-8d44-e2d513f6e8f7",
   "metadata": {},
   "outputs": [],
   "source": [
    "print(veg[1][2])"
   ]
  },
  {
   "cell_type": "code",
   "execution_count": null,
   "id": "ec29e5b0-cc3a-486c-ae74-cd242288ab27",
   "metadata": {},
   "outputs": [],
   "source": [
    "odds.append(11)\n",
    "print(\"odds after adding a value:\", odds)"
   ]
  },
  {
   "cell_type": "code",
   "execution_count": null,
   "id": "a21e4fc9-7646-4702-a702-5ec739ef6600",
   "metadata": {},
   "outputs": [],
   "source": [
    "removed_element = odds.pop(0)\n",
    "print(\"odds after removing the first element:\", odds)\n",
    "print(\"removed_element:\", removed_element)"
   ]
  },
  {
   "cell_type": "code",
   "execution_count": null,
   "id": "8aff1197-cea0-467b-b0e9-75fccfe31c0e",
   "metadata": {},
   "outputs": [],
   "source": [
    "odds.reverse()\n",
    "print(\"odds afer reversing:\", odds)"
   ]
  },
  {
   "cell_type": "code",
   "execution_count": null,
   "id": "4b8c3f86-d673-4822-84a0-1fa925ea389f",
   "metadata": {},
   "outputs": [],
   "source": [
    "odds = [1, 3, 5, 7]"
   ]
  },
  {
   "cell_type": "code",
   "execution_count": null,
   "id": "f9e61329-6d03-4b8e-b4e2-0e0203b07841",
   "metadata": {},
   "outputs": [],
   "source": [
    "print(odds[0])\n",
    "print(odds[1])\n",
    "print(odds[2])\n",
    "print(odds[3])"
   ]
  },
  {
   "cell_type": "code",
   "execution_count": null,
   "id": "085d8fb4-381c-451a-b00f-b51d4bc36c0b",
   "metadata": {},
   "outputs": [],
   "source": [
    "odds = [1, 3, 5, 7]\n",
    "for num in odds:\n",
    "    print(num)"
   ]
  },
  {
   "cell_type": "code",
   "execution_count": null,
   "id": "bac72a0a-82a1-4d50-8c4f-68b1148e6175",
   "metadata": {},
   "outputs": [],
   "source": [
    "odds = [1, 3, 5, 7, 11]\n",
    "for num in odds:\n",
    "    print(num)"
   ]
  },
  {
   "cell_type": "code",
   "execution_count": null,
   "id": "48bad59a-1c9c-424e-8f27-c8a6c9fa616d",
   "metadata": {},
   "outputs": [],
   "source": [
    "odds = [1, 3, 5, 7, 11]\n",
    "for banana in odds:\n",
    "    print(banana)"
   ]
  },
  {
   "cell_type": "code",
   "execution_count": null,
   "id": "b15084c0-0cc2-44d4-95a4-c9dddedff2ef",
   "metadata": {},
   "outputs": [],
   "source": [
    "name = \"Rosalind\"\n",
    "for name in [\"Curie\", \"Darwin\", \"Turing\"]:\n",
    "    print(name)\n",
    "print(\"after the loop, name is\", name)"
   ]
  },
  {
   "cell_type": "code",
   "execution_count": null,
   "id": "2d20e207-9ba4-486e-a844-3a03108999db",
   "metadata": {},
   "outputs": [],
   "source": [
    "print(len([0, 1, 2, 3]))"
   ]
  },
  {
   "cell_type": "code",
   "execution_count": null,
   "id": "bf306678-74c3-4c21-949a-c22a7b54b243",
   "metadata": {},
   "outputs": [],
   "source": [
    "import glob"
   ]
  },
  {
   "cell_type": "code",
   "execution_count": null,
   "id": "a153f724-194e-4a82-815a-525ef566f0f2",
   "metadata": {},
   "outputs": [],
   "source": [
    "print(len(glob.glob('data/inflammation-*.csv')))"
   ]
  },
  {
   "cell_type": "code",
   "execution_count": null,
   "id": "9bb0fe2a-d02f-4505-a99e-76a4747d90ef",
   "metadata": {},
   "outputs": [],
   "source": [
    "filenames = sorted(glob.glob('data/inflammation-*.csv'))\n",
    "#filenames = filenames[0:3]\n",
    "for filename in filenames:\n",
    "    print(filename)\n",
    "\n",
    "    data = numpy.loadtxt(fname=filename, delimiter=\",\")\n",
    "\n",
    "    fig = matplotlib.pyplot.figure(figsize=(10.0, 3.0))\n",
    "\n",
    "    axes1 = fig.add_subplot(1, 3, 1)\n",
    "    axes2 = fig.add_subplot(1, 3, 2)\n",
    "    axes3 = fig.add_subplot(1, 3, 3)\n",
    "\n",
    "    axes1.set_ylabel(\"average\")\n",
    "    axes1.plot(numpy.mean(data, axis=0))\n",
    "\n",
    "    axes2.set_ylabel(\"max\")\n",
    "    axes2.plot(numpy.amax(data, axis=0))\n",
    "\n",
    "    axes3.set_ylabel(\"min\")\n",
    "    axes3.plot(numpy.amin(data, axis=0))\n",
    "\n",
    "    fig.tight_layout()\n",
    "\n",
    "    matplotlib.pyplot.savefig(\"inflammation.png\")\n",
    "    matplotlib.pyplot.show()\n",
    "\n",
    "    "
   ]
  },
  {
   "cell_type": "code",
   "execution_count": null,
   "id": "f35b29f9-bfaf-470a-ad4e-5a3250e24099",
   "metadata": {},
   "outputs": [],
   "source": [
    "num = 654"
   ]
  },
  {
   "cell_type": "code",
   "execution_count": null,
   "id": "17673ced-ca93-4c05-b82c-8e7d6ad53d8c",
   "metadata": {},
   "outputs": [],
   "source": [
    "if num > 100:\n",
    "    print(\"YES!\")\n",
    "else:\n",
    "    print(\"😭\")\n",
    "print(\"ALL DONE\")"
   ]
  },
  {
   "cell_type": "code",
   "execution_count": null,
   "id": "889b87e1-30a4-4013-bedf-af6460640315",
   "metadata": {},
   "outputs": [],
   "source": [
    "# = -> Assign\n",
    "# == -> Check value\n",
    "# >= <=\n",
    "# +=\n",
    "for num in [4,22,-8,0,54,15,-9]:\n",
    "#num = 0\n",
    "    if num > 0:\n",
    "        print(num, 'is positive')\n",
    "    elif num == 0:\n",
    "        print(num, 'is ZERO')\n",
    "    else:\n",
    "        print(num, 'is negative')\n",
    "print('All done!')"
   ]
  },
  {
   "cell_type": "code",
   "execution_count": null,
   "id": "ca1d76b2-85ec-4b45-8ba6-a6b950178d6b",
   "metadata": {},
   "outputs": [],
   "source": [
    "num = 18\n",
    "if ((num > 0) and (num < 33)) and ((num < 20) and (num > 18)):\n",
    "    print(num, 'is positive and less than 33')\n",
    "if (num < 20) or (num > 18):\n",
    "    print(num, 'is between 18 and 20')\n",
    "else:\n",
    "    print(num, 'did not match any conditions')\n",
    "\n",
    "print('all done')"
   ]
  },
  {
   "cell_type": "code",
   "execution_count": null,
   "id": "84640ad2-1fd3-4bed-8768-15674c6b7fcd",
   "metadata": {},
   "outputs": [],
   "source": [
    "data = numpy.loadtxt(fname='data/inflammation-03.csv', delimiter=',')"
   ]
  },
  {
   "cell_type": "code",
   "execution_count": null,
   "id": "177b2b65-fb8e-4625-b3ee-f690cd635072",
   "metadata": {},
   "outputs": [],
   "source": [
    "max_inflammation_0 = numpy.amax(data, axis=0)[0]\n",
    "max_inflammation_20 = numpy.amax(data, axis=0)[20]\n",
    "\n",
    "print(max_inflammation_0, max_inflammation_20)\n",
    "\n",
    "if max_inflammation_0 == 0 and max_inflammation_20 == 20:\n",
    "    print('Suspicious looking maxima!')\n",
    "elif numpy.sum(numpy.amin(data, axis=0)) == 0:\n",
    "    print('Minima adds up to zero!')\n",
    "else: \n",
    "    print('All should be good!')"
   ]
  },
  {
   "cell_type": "code",
   "execution_count": null,
   "id": "6a0546f9-0f20-4609-b63d-3648d1618788",
   "metadata": {},
   "outputs": [],
   "source": [
    "if '':\n",
    "    print('I am a empty string!')\n",
    "if 'ice cream':\n",
    "    print('I am not a empty string!')\n",
    "print('Checking 9 > 0')\n",
    "if 9 > 0:\n",
    "    print('I am ', 9>0)\n",
    "print('Checking 0 > 9')\n",
    "if 0 > 9:\n",
    "    print('I am ', 0>9)\n",
    "\n",
    "\n",
    "if True:\n",
    "    print('I am true or Groot!')\n",
    "if False:\n",
    "    print('I am false!')\n",
    "#if []:#\n",
    "    #print('I need to make my grocery list!')\n",
    "#if ['Bread','Milk','Eggs','Condensed Milk']:\n",
    "    #print('My grocery list is ready')\n",
    "#recipe_list = 'Carrot, Lime, Strawberry, German Chocolate'\n",
    "#recipe_ingridients = ''\n",
    "#if recipe_list:\n",
    "    #print('Recipes available')\n",
    "#if recipe_ingridients:\n",
    "    #print('Ingridents available')\n",
    "#if None:\n",
    "    #print('I am the void!')"
   ]
  },
  {
   "cell_type": "code",
   "execution_count": null,
   "id": "4f684bfb-d6dd-49f1-8bf2-63c533b166bb",
   "metadata": {},
   "outputs": [],
   "source": [
    "print(num < 0)"
   ]
  },
  {
   "cell_type": "code",
   "execution_count": null,
   "id": "909f231d-7052-4485-9722-d8cca3962545",
   "metadata": {},
   "outputs": [],
   "source": [
    "num < 0 == False"
   ]
  },
  {
   "cell_type": "code",
   "execution_count": null,
   "id": "963289db-2f86-45f8-99fa-45e78f6b770e",
   "metadata": {},
   "outputs": [],
   "source": [
    "if not num < 0:\n",
    "    print('words')"
   ]
  },
  {
   "cell_type": "code",
   "execution_count": null,
   "id": "9db48854-a5c3-42b8-96a7-ce04d6624316",
   "metadata": {},
   "outputs": [],
   "source": [
    "if (num > 0) != False:\n",
    "    print('Cats')"
   ]
  },
  {
   "cell_type": "code",
   "execution_count": null,
   "id": "7f6e8b74-f023-4f1e-acba-c991c5c6704d",
   "metadata": {},
   "outputs": [],
   "source": [
    "print(0>9)"
   ]
  },
  {
   "cell_type": "code",
   "execution_count": null,
   "id": "bf42dfea-a782-4316-80e7-1f5b6a6b9840",
   "metadata": {},
   "outputs": [],
   "source": [
    "my_condition = 9 > 0\n",
    "\n",
    "if my_condition:\n",
    "    print(my_condition)"
   ]
  },
  {
   "cell_type": "code",
   "execution_count": null,
   "id": "50a27d06-f765-416f-9fce-151fe4c36b1d",
   "metadata": {},
   "outputs": [],
   "source": [
    "print(((num > 0) and (num < 33)) and ((num < 20) or (num > 18)))"
   ]
  },
  {
   "cell_type": "code",
   "execution_count": null,
   "id": "0f9851ce-d5e8-4010-9d27-578cdf288da0",
   "metadata": {},
   "outputs": [],
   "source": [
    "num"
   ]
  },
  {
   "cell_type": "code",
   "execution_count": null,
   "id": "e2d945ff-5fdc-496c-a49c-423ebdbeea30",
   "metadata": {},
   "outputs": [],
   "source": [
    "fahrenheit_val = 65\n",
    "celsius_val = ((fahrenheit_val - 32) * (5/9))\n",
    "print(fahrenheit_val, celsius_val)"
   ]
  },
  {
   "cell_type": "code",
   "execution_count": null,
   "id": "b946a566-3f74-4c01-9651-a1d8bc44de0a",
   "metadata": {},
   "outputs": [],
   "source": [
    "def f_to_c(temp):\n",
    "    celcius = ((temp - 32) * (5/9))\n",
    "    return celcius \n",
    "\n",
    "def c_to_k(temp):\n",
    "    return temp + 273.15\n",
    "\n",
    "def f_to_k(temp):\n",
    "    celcius = f_to_c(temp)\n",
    "    kelvin = c_to_k(celcius)\n",
    "    return kelvin\n"
   ]
  },
  {
   "cell_type": "code",
   "execution_count": null,
   "id": "9a9bcaaa-1cea-4f53-8442-ff2d902d1b41",
   "metadata": {},
   "outputs": [],
   "source": [
    "print( f_to_c(0) )"
   ]
  },
  {
   "cell_type": "code",
   "execution_count": null,
   "id": "edff8c35-83f7-4dac-b44a-0e9e3ddd447a",
   "metadata": {},
   "outputs": [],
   "source": [
    "print('The freezing point of water:', f_to_c(32))\n",
    "print('The boiling point of water:', f_to_c(212))"
   ]
  },
  {
   "cell_type": "code",
   "execution_count": null,
   "id": "91cd6c40-26f7-4f21-aa6d-7707ab4927a3",
   "metadata": {},
   "outputs": [],
   "source": [
    "print(c_to_k(32))"
   ]
  },
  {
   "cell_type": "code",
   "execution_count": null,
   "id": "5e81b8e9-cea2-40d0-b3ae-bfd75312016b",
   "metadata": {},
   "outputs": [],
   "source": [
    "print(f_to_k(100))"
   ]
  },
  {
   "cell_type": "code",
   "execution_count": null,
   "id": "5d4b16e3-dad8-4163-b134-4f04a623a7c6",
   "metadata": {},
   "outputs": [],
   "source": [
    "f_to_k(32)"
   ]
  },
  {
   "cell_type": "code",
   "execution_count": null,
   "id": "848a5003-2b20-4306-bc83-cb84bb9a1bdc",
   "metadata": {},
   "outputs": [],
   "source": [
    "temp"
   ]
  },
  {
   "cell_type": "code",
   "execution_count": null,
   "id": "96db7365-66d7-4ec4-bb71-a9e3a39b22d7",
   "metadata": {},
   "outputs": [],
   "source": [
    "def visualize(filename):\n",
    "    print(filename)\n",
    "\n",
    "    data = numpy.loadtxt(fname=filename, delimiter=\",\")\n",
    "\n",
    "    fig = matplotlib.pyplot.figure(figsize=(10.0, 3.0))\n",
    "\n",
    "    axes1 = fig.add_subplot(1, 3, 1)\n",
    "    axes2 = fig.add_subplot(1, 3, 2)\n",
    "    axes3 = fig.add_subplot(1, 3, 3)\n",
    "\n",
    "    axes1.set_ylabel(\"average\")\n",
    "    axes1.plot(numpy.mean(data, axis=0))\n",
    "\n",
    "    axes2.set_ylabel(\"max\")\n",
    "    axes2.plot(numpy.amax(data, axis=0))\n",
    "\n",
    "    axes3.set_ylabel(\"min\")\n",
    "    axes3.plot(numpy.amin(data, axis=0))\n",
    "\n",
    "    fig.tight_layout()\n",
    "\n",
    "    matplotlib.pyplot.show()\n",
    "\n",
    "\n",
    "def detect_problems(filename):\n",
    "    # Checks the data in a file called filename for any potentially\n",
    "    # weird or unsual result. Expects a path to a file and prints the output. \n",
    "    data = numpy.loadtxt(fname=filename, delimiter=',')\n",
    "    \n",
    "    max_inflammation_0 = numpy.amax(data, axis=0)[0]\n",
    "    max_inflammation_20 = numpy.amax(data, axis=0)[20]\n",
    "\n",
    "    print(max_inflammation_0, max_inflammation_20)\n",
    "\n",
    "    if max_inflammation_0 == 0 and max_inflammation_20 == 20:\n",
    "        print('Suspicious looking maxima!')\n",
    "    elif numpy.sum(numpy.amin(data, axis=0)) == 0:\n",
    "        print('Minima adds up to zero!')\n",
    "    else: \n",
    "        print('All should be good!')"
   ]
  },
  {
   "cell_type": "code",
   "execution_count": null,
   "id": "73a99a21-9a62-4b02-91cd-eead7e5d6aa2",
   "metadata": {},
   "outputs": [],
   "source": [
    "for filename in sorted(glob.glob('data/inflammation-*.csv')):\n",
    "    visualize(filename)\n",
    "    detect_problems(filename)"
   ]
  },
  {
   "cell_type": "code",
   "execution_count": null,
   "id": "7169a281-5a48-4cb9-8d37-d706b2b44350",
   "metadata": {},
   "outputs": [],
   "source": [
    "ice_creams = [\n",
    "    'Pumpkin Cheesecake',\n",
    "    'Peach Crumble',\n",
    "    'Vanilla Bean',\n",
    "    'White Chocolate Basil',\n",
    "    'Raspberry Oatmeal Something'\n",
    "]\n",
    "ice_creams[-6]"
   ]
  },
  {
   "cell_type": "code",
   "execution_count": null,
   "id": "fd31d881-5960-457e-86ce-f7e40bf517cc",
   "metadata": {},
   "outputs": [],
   "source": [
    "f_to_c('Thirty Two')"
   ]
  },
  {
   "cell_type": "code",
   "execution_count": null,
   "id": "5311735c-47f3-4ae5-8e1f-060f3f34ebd8",
   "metadata": {},
   "outputs": [],
   "source": [
    "'Thirty Two' * 20"
   ]
  },
  {
   "cell_type": "code",
   "execution_count": null,
   "id": "39d81ecc-8aa6-4cf6-a02a-1f7882bb0d11",
   "metadata": {},
   "outputs": [],
   "source": [
    "'-' *20"
   ]
  },
  {
   "cell_type": "code",
   "execution_count": null,
   "id": "03f04889-0917-47d4-8124-fc5e256604d1",
   "metadata": {},
   "outputs": [],
   "source": [
    "#I am a change!"
   ]
  }
 ],
 "metadata": {
  "kernelspec": {
   "display_name": "Biopython 1.81 (py311)",
   "language": "python",
   "name": "biopython-1.81-py311"
  },
  "language_info": {
   "codemirror_mode": {
    "name": "ipython",
    "version": 3
   },
   "file_extension": ".py",
   "mimetype": "text/x-python",
   "name": "python",
   "nbconvert_exporter": "python",
   "pygments_lexer": "ipython3",
   "version": "3.11.4"
  }
 },
 "nbformat": 4,
 "nbformat_minor": 5
}
